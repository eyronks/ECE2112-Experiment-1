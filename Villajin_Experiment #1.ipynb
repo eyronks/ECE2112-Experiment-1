{
 "cells": [
  {
   "cell_type": "code",
   "execution_count": 5,
   "id": "68e250e8-8df7-49e9-a7b3-c5b35708853b",
   "metadata": {},
   "outputs": [
    {
     "data": {
      "text/plain": [
       "'acehkr'"
      ]
     },
     "execution_count": 5,
     "metadata": {},
     "output_type": "execute_result"
    }
   ],
   "source": [
    "def alphabet_soup(s):\n",
    "    return (\"\".join(sorted(s)))\n",
    "\n",
    "alphabet_soup(\"hacker\")"
   ]
  },
  {
   "cell_type": "code",
   "execution_count": 19,
   "id": "d0c60ac9-09ad-429c-afb0-e2c5697cdffa",
   "metadata": {},
   "outputs": [
    {
     "name": "stdout",
     "output_type": "stream",
     "text": [
      "Make me :)\n"
     ]
    }
   ],
   "source": [
    "def emotify(s):\n",
    "    list = {\n",
    "        'smile': ':)',\n",
    "        'grin': ':D',\n",
    "        'sad': ':(',\n",
    "        'mad': '>:(',\n",
    "    }\n",
    "\n",
    "    for word, emoticon in list.items():\n",
    "        s = s.replace(word, emoticon)\n",
    "\n",
    "    return s\n",
    "\n",
    "print(emotify(\"Make me smile\"))"
   ]
  },
  {
   "cell_type": "code",
   "execution_count": 22,
   "id": "01aba000-dfa5-4617-b126-f94f7d164f7e",
   "metadata": {},
   "outputs": [
    {
     "name": "stdout",
     "output_type": "stream",
     "text": [
      "first: 1, middle: [2, 3, 4, 5], last: 6\n"
     ]
    }
   ],
   "source": [
    "def unpack_list(lst):\n",
    "    first = lst[0]\n",
    "    last = lst[-1]\n",
    "    middle = lst[1:-1]\n",
    "    print(\"first: {}, middle: {}, last: {}\".format(first, middle, last))\n",
    "\n",
    "unpack_list(lst = [1, 2, 3, 4, 5, 6])"
   ]
  },
  {
   "cell_type": "code",
   "execution_count": null,
   "id": "0b7cfbdb-02e2-478b-b6f5-fafe33f0b48e",
   "metadata": {},
   "outputs": [],
   "source": []
  }
 ],
 "metadata": {
  "kernelspec": {
   "display_name": "Python 3 (ipykernel)",
   "language": "python",
   "name": "python3"
  },
  "language_info": {
   "codemirror_mode": {
    "name": "ipython",
    "version": 3
   },
   "file_extension": ".py",
   "mimetype": "text/x-python",
   "name": "python",
   "nbconvert_exporter": "python",
   "pygments_lexer": "ipython3",
   "version": "3.12.4"
  }
 },
 "nbformat": 4,
 "nbformat_minor": 5
}
